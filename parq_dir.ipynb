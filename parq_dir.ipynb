{
 "cells": [
  {
   "cell_type": "code",
   "execution_count": 24,
   "metadata": {},
   "outputs": [],
   "source": [
    "import pandas as pd\n",
    "import pyarrow.parquet as pq\n",
    "import matplotlib.pyplot as plt\n",
    "from PIL import Image\n",
    "import os"
   ]
  },
  {
   "cell_type": "code",
   "execution_count": 28,
   "metadata": {},
   "outputs": [
    {
     "name": "stdout",
     "output_type": "stream",
     "text": [
      "Index(['indices', 'plans', 'walls', 'colors', 'footprints', 'plan_captions'], dtype='object')\n"
     ]
    }
   ],
   "source": [
    "\n",
    "# Specify the path to your Parquet file\n",
    "file_path = 'D:\\Codes\\Python\\DL_Project\\P1.parquet'\n",
    "\n",
    "# Read the Parquet file into a PyArrow Table\n",
    "table = pq.read_table(file_path)\n",
    "\n",
    "# Convert the PyArrow Table to a Pandas DataFrame if needed\n",
    "df = table.to_pandas()\n",
    "\n",
    "# Now you can work with the DataFrame\n",
    "print(df.columns)\n"
   ]
  },
  {
   "cell_type": "code",
   "execution_count": 29,
   "metadata": {},
   "outputs": [
    {
     "name": "stdout",
     "output_type": "stream",
     "text": [
      "    indices                                              plans  \\\n",
      "0  00000000  {'bytes': b'\\x89PNG\\r\\n\\x1a\\n\\x00\\x00\\x00\\rIHD...   \n",
      "1  00000001  {'bytes': b'\\x89PNG\\r\\n\\x1a\\n\\x00\\x00\\x00\\rIHD...   \n",
      "2  00000010  {'bytes': b'\\x89PNG\\r\\n\\x1a\\n\\x00\\x00\\x00\\rIHD...   \n",
      "3  00000100  {'bytes': b'\\x89PNG\\r\\n\\x1a\\n\\x00\\x00\\x00\\rIHD...   \n",
      "4  00001000  {'bytes': b'\\x89PNG\\r\\n\\x1a\\n\\x00\\x00\\x00\\rIHD...   \n",
      "\n",
      "                                               walls  \\\n",
      "0  {'bytes': b'\\x89PNG\\r\\n\\x1a\\n\\x00\\x00\\x00\\rIHD...   \n",
      "1  {'bytes': b'\\x89PNG\\r\\n\\x1a\\n\\x00\\x00\\x00\\rIHD...   \n",
      "2  {'bytes': b'\\x89PNG\\r\\n\\x1a\\n\\x00\\x00\\x00\\rIHD...   \n",
      "3  {'bytes': b'\\x89PNG\\r\\n\\x1a\\n\\x00\\x00\\x00\\rIHD...   \n",
      "4  {'bytes': b'\\x89PNG\\r\\n\\x1a\\n\\x00\\x00\\x00\\rIHD...   \n",
      "\n",
      "                                              colors  \\\n",
      "0  {'bytes': b'\\x89PNG\\r\\n\\x1a\\n\\x00\\x00\\x00\\rIHD...   \n",
      "1  {'bytes': b'\\x89PNG\\r\\n\\x1a\\n\\x00\\x00\\x00\\rIHD...   \n",
      "2  {'bytes': b'\\x89PNG\\r\\n\\x1a\\n\\x00\\x00\\x00\\rIHD...   \n",
      "3  {'bytes': b'\\x89PNG\\r\\n\\x1a\\n\\x00\\x00\\x00\\rIHD...   \n",
      "4  {'bytes': b'\\x89PNG\\r\\n\\x1a\\n\\x00\\x00\\x00\\rIHD...   \n",
      "\n",
      "                                          footprints  \\\n",
      "0  {'bytes': b'\\x89PNG\\r\\n\\x1a\\n\\x00\\x00\\x00\\rIHD...   \n",
      "1  {'bytes': b'\\x89PNG\\r\\n\\x1a\\n\\x00\\x00\\x00\\rIHD...   \n",
      "2  {'bytes': b'\\x89PNG\\r\\n\\x1a\\n\\x00\\x00\\x00\\rIHD...   \n",
      "3  {'bytes': b'\\x89PNG\\r\\n\\x1a\\n\\x00\\x00\\x00\\rIHD...   \n",
      "4  {'bytes': b'\\x89PNG\\r\\n\\x1a\\n\\x00\\x00\\x00\\rIHD...   \n",
      "\n",
      "                                       plan_captions  \n",
      "0  a floor plan drawing, the rooms are used for t...  \n",
      "1  a floor plan drawing, the rooms are used for t...  \n",
      "2  a floor plan drawing, the rooms are used for t...  \n",
      "3  a floor plan drawing, the rooms are used for t...  \n",
      "4  a floor plan drawing, the rooms are used for t...  \n"
     ]
    }
   ],
   "source": [
    "\n",
    "\n",
    "# Load the Parquet file into a Pandas DataFrame\n",
    "df = pd.read_parquet(file_path)\n",
    "\n",
    "# Create the main database directory\n",
    "database_dir = 'D:\\Codes\\Python\\DL_Project\\database'\n",
    "os.makedirs(database_dir, exist_ok=True)\n",
    "\n",
    "# List of subfolders for different types of data\n",
    "subfolders = ['plans', 'walls', 'colors', 'footprints', 'plan_captions']\n",
    "\n",
    "# Create subdirectories for each type of data\n",
    "for subfolder in subfolders:\n",
    "    subfolder_path = os.path.join(database_dir, subfolder)\n",
    "    os.makedirs(subfolder_path, exist_ok=True)\n",
    "\n",
    "# Iterate through each row of the DataFrame\n",
    "for index, row in df.iterrows():\n",
    "    # Get the index value from the 'indices' column\n",
    "    idx = row['indices']\n",
    "\n",
    "    # Iterate through each subfolder type\n",
    "    for subfolder in subfolders[:-1]:  # Exclude 'description' subfolder\n",
    "        # Check if the column contains image data as a dictionary\n",
    "        if isinstance(row[subfolder], dict):\n",
    "            # Extract the image data from the dictionary\n",
    "            image_data = row[subfolder]['bytes']\n",
    "            \n",
    "            # Save the image to the corresponding subfolder using the index value\n",
    "            image = Image.open(io.BytesIO(image_data))\n",
    "            image_path = os.path.join(database_dir, subfolder, f\"{idx}.png\")  # Adjust file extension as needed\n",
    "            image.save(image_path)\n",
    "            \n",
    "    # Save the description to the 'description' subfolder using the index value\n",
    "    description_path = os.path.join(database_dir, 'plan_captions', f\"{idx}.txt\")\n",
    "    with open(description_path, 'w') as file:\n",
    "        file.write(row['plan_captions'])\n",
    "\n",
    "# Show the first few rows of the DataFrame to verify\n",
    "print(df.head())\n"
   ]
  },
  {
   "cell_type": "code",
   "execution_count": null,
   "metadata": {},
   "outputs": [],
   "source": []
  }
 ],
 "metadata": {
  "kernelspec": {
   "display_name": "Python 3",
   "language": "python",
   "name": "python3"
  },
  "language_info": {
   "codemirror_mode": {
    "name": "ipython",
    "version": 3
   },
   "file_extension": ".py",
   "mimetype": "text/x-python",
   "name": "python",
   "nbconvert_exporter": "python",
   "pygments_lexer": "ipython3",
   "version": "3.9.9"
  }
 },
 "nbformat": 4,
 "nbformat_minor": 2
}
